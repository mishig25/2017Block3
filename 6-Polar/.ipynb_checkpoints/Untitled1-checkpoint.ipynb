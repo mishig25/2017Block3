{
 "cells": [
  {
   "cell_type": "code",
   "execution_count": 1,
   "metadata": {
    "collapsed": true
   },
   "outputs": [],
   "source": [
    "import numpy as np"
   ]
  },
  {
   "cell_type": "code",
   "execution_count": 2,
   "metadata": {
    "collapsed": true
   },
   "outputs": [],
   "source": [
    "import numpy.linalg as la"
   ]
  },
  {
   "cell_type": "code",
   "execution_count": 3,
   "metadata": {
    "collapsed": true
   },
   "outputs": [],
   "source": [
    "n = np.array([-4,22])"
   ]
  },
  {
   "cell_type": "code",
   "execution_count": 4,
   "metadata": {
    "collapsed": true
   },
   "outputs": [],
   "source": [
    "n_l = la.norm(n)"
   ]
  },
  {
   "cell_type": "code",
   "execution_count": 5,
   "metadata": {
    "collapsed": false
   },
   "outputs": [
    {
     "data": {
      "text/plain": [
       "22.360679774997898"
      ]
     },
     "execution_count": 5,
     "metadata": {},
     "output_type": "execute_result"
    }
   ],
   "source": [
    "n_l"
   ]
  },
  {
   "cell_type": "markdown",
   "metadata": {},
   "source": [
    "## Problem 10"
   ]
  },
  {
   "cell_type": "code",
   "execution_count": 7,
   "metadata": {
    "collapsed": true
   },
   "outputs": [],
   "source": [
    "l1 = [50,240,500,115,80,100,400,130]"
   ]
  },
  {
   "cell_type": "code",
   "execution_count": 16,
   "metadata": {
    "collapsed": false
   },
   "outputs": [
    {
     "name": "stdout",
     "output_type": "stream",
     "text": [
      "A: [ 50 240] B: [500 115] v1: [ 450 -125] n1: [125 450]\n",
      "C: [ 80 100] D: [400 130] v2: [320  30] n2: [-30 320]\n",
      "s1: 45700 s2: -7800\n",
      "s3: -45700 s4: -45700\n",
      "Same signs. STOP HERE. NO intersection\n"
     ]
    }
   ],
   "source": [
    "# get points\n",
    "a = np.array([l1[0],l1[1]])\n",
    "b = np.array([l1[2],l1[3]])\n",
    "c = np.array([l1[4],l1[5]])\n",
    "d = np.array([l1[6],l1[7]])\n",
    "# calc direction vectors\n",
    "v1 = b-a\n",
    "v2 = d-c\n",
    "# calc normal vectors (reverse direction vectors)\n",
    "n1 = np.array([-1*v1[1],v1[0]])\n",
    "n2 = np.array([-1*v2[1],v2[0]])\n",
    "print \"A: {} B: {} v1: {} n1: {}\".format(a,b,v1,n1)\n",
    "print \"C: {} D: {} v2: {} n2: {}\".format(c,d,v2,n2)\n",
    "\n",
    "# check a and b are on same side \n",
    "s1 = n2.dot(a-c)\n",
    "s2 = n2.dot(b-c)\n",
    "print \"s1: {} s2: {}\".format(s1,s2)\n",
    "if((s1<0) == (s2<0)):\n",
    "    print \"Same signs. STOP HERE. NO intersection\"\n",
    "else:\n",
    "    # check c and d are on same side\n",
    "    s3 = n2.dot(c-a)\n",
    "    s4 = n2.dot(d-a)\n",
    "    if((s3<0) == (s4<0)):\n",
    "        print \"s3: {} s4: {}\".format(s3,s4)\n",
    "        print \"Same signs. STOP HERE. NO intersection\"\n",
    "    else:\n",
    "        print \"INTERSECTING. CALCULATE INTERSECTION POINTS.\""
   ]
  },
  {
   "cell_type": "code",
   "execution_count": null,
   "metadata": {
    "collapsed": true
   },
   "outputs": [],
   "source": [
    "ex10 = [[50,240,500,115,80,100,400,130],\n",
    "       [50,240,500,115,80,100,400,130],\n",
    "       [50,240,500,115,80,100,400,130],\n",
    "       [50,240,500,115,80,100,400,130]]"
   ]
  }
 ],
 "metadata": {
  "kernelspec": {
   "display_name": "Python 2",
   "language": "python",
   "name": "python2"
  },
  "language_info": {
   "codemirror_mode": {
    "name": "ipython",
    "version": 2
   },
   "file_extension": ".py",
   "mimetype": "text/x-python",
   "name": "python",
   "nbconvert_exporter": "python",
   "pygments_lexer": "ipython2",
   "version": "2.7.13"
  }
 },
 "nbformat": 4,
 "nbformat_minor": 2
}
